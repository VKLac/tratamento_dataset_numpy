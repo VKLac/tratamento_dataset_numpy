{
 "cells": [
  {
   "cell_type": "code",
   "execution_count": 1,
   "id": "2e35fcc2",
   "metadata": {},
   "outputs": [],
   "source": [
    "import numpy as np\n",
    "import warnings\n",
    "warnings.filterwarnings('ignore')"
   ]
  },
  {
   "cell_type": "code",
   "execution_count": 2,
   "id": "e1b6586d",
   "metadata": {},
   "outputs": [],
   "source": [
    "#Configuração de impressão Numpy\n",
    "np.set_printoptions(suppress=True,linewidth = 200, precision = 2)"
   ]
  },
  {
   "cell_type": "code",
   "execution_count": 3,
   "id": "58653662",
   "metadata": {},
   "outputs": [
    {
     "data": {
      "text/plain": [
       "array([[48010226.  ,         nan,    35000.  , ...,         nan,         nan,     9452.96],\n",
       "       [57693261.  ,         nan,    30000.  , ...,         nan,         nan,     4679.7 ],\n",
       "       [59432726.  ,         nan,    15000.  , ...,         nan,         nan,     1969.83],\n",
       "       ...,\n",
       "       [50415990.  ,         nan,    10000.  , ...,         nan,         nan,     2185.64],\n",
       "       [46154151.  ,         nan,         nan, ...,         nan,         nan,     3199.4 ],\n",
       "       [66055249.  ,         nan,    10000.  , ...,         nan,         nan,      301.9 ]])"
      ]
     },
     "execution_count": 3,
     "metadata": {},
     "output_type": "execute_result"
    }
   ],
   "source": [
    "#Carregando o dataset\n",
    "dados = np.genfromtxt(\"dataset1.csv\",delimiter = ';',skip_header = 1,autostrip = True,encoding = 'cp1252')\n",
    "dados.view()"
   ]
  },
  {
   "cell_type": "markdown",
   "id": "0ab32997",
   "metadata": {},
   "source": [
    "os nan são em razão de caracteres não numéricos, que não foram carregados dá melhor forma pelo Numpy"
   ]
  },
  {
   "cell_type": "code",
   "execution_count": 4,
   "id": "b5430f48",
   "metadata": {},
   "outputs": [
    {
     "data": {
      "text/plain": [
       "88005"
      ]
     },
     "execution_count": 4,
     "metadata": {},
     "output_type": "execute_result"
    }
   ],
   "source": [
    "#Verificando os valores nan nos dados\n",
    "np.isnan(dados).sum()"
   ]
  },
  {
   "cell_type": "code",
   "execution_count": 5,
   "id": "038a2d40",
   "metadata": {},
   "outputs": [
    {
     "name": "stdout",
     "output_type": "stream",
     "text": [
      "68616520.0\n"
     ]
    }
   ],
   "source": [
    "#Iremos substituir os valores nan no dataset por um valor coringa, que irá corresponder ao valor máximo do dataset + 1\n",
    "valor_coringa = np.nanmax(dados) + 1 #numero maximo dentro de \"dados\" ignorando o nan\n",
    "print(valor_coringa) "
   ]
  },
  {
   "cell_type": "code",
   "execution_count": 6,
   "id": "88994006",
   "metadata": {},
   "outputs": [
    {
     "data": {
      "text/plain": [
       "array([54015809.19,         nan,    15273.46,         nan,    15311.04,         nan,       16.62,      440.92,         nan,         nan,         nan,         nan,         nan,     3143.85])"
      ]
     },
     "execution_count": 6,
     "metadata": {},
     "output_type": "execute_result"
    }
   ],
   "source": [
    "#Usaremos agora uma ténica para saber quais colunas tem valores numéricos e quais tem tipo string\n",
    "media_ignora_nan = np.nanmean(dados,axis = 0)\n",
    "media_ignora_nan"
   ]
  },
  {
   "cell_type": "code",
   "execution_count": 7,
   "id": "788babd5",
   "metadata": {},
   "outputs": [
    {
     "data": {
      "text/plain": [
       "array([ 1,  3,  5,  8,  9, 10, 11, 12], dtype=int64)"
      ]
     },
     "execution_count": 7,
     "metadata": {},
     "output_type": "execute_result"
    }
   ],
   "source": [
    "#Onde tiver nan no array media_ignora_nan, aquela coluna é do tipo string\n",
    "colunas_string = np.argwhere(np.isnan(media_ignora_nan)).squeeze()\n",
    "colunas_string"
   ]
  },
  {
   "cell_type": "code",
   "execution_count": 8,
   "id": "f9dbfdfe",
   "metadata": {},
   "outputs": [
    {
     "data": {
      "text/plain": [
       "array([ 0,  2,  4,  6,  7, 13], dtype=int64)"
      ]
     },
     "execution_count": 8,
     "metadata": {},
     "output_type": "execute_result"
    }
   ],
   "source": [
    "#Onde não tiver nan no array media_ignora_nan, aquela coluna é do tipo numérica\n",
    "colunas_num = np.argwhere(np.isnan(media_ignora_nan)==False).squeeze()\n",
    "colunas_num"
   ]
  },
  {
   "cell_type": "code",
   "execution_count": 9,
   "id": "f7c23018",
   "metadata": {},
   "outputs": [
    {
     "data": {
      "text/plain": [
       "array([['May-15', 'Current', '36 months', ..., 'Verified', 'https://www.lendingclub.com/browse/loanDetail.action?loan_id=48010226', 'CA'],\n",
       "       ['', 'Current', '36 months', ..., 'Source Verified', 'https://www.lendingclub.com/browse/loanDetail.action?loan_id=57693261', 'NY'],\n",
       "       ['Sep-15', 'Current', '36 months', ..., 'Verified', 'https://www.lendingclub.com/browse/loanDetail.action?loan_id=59432726', 'PA'],\n",
       "       ...,\n",
       "       ['Jun-15', 'Current', '36 months', ..., 'Source Verified', 'https://www.lendingclub.com/browse/loanDetail.action?loan_id=50415990', 'CA'],\n",
       "       ['Apr-15', 'Current', '36 months', ..., 'Source Verified', 'https://www.lendingclub.com/browse/loanDetail.action?loan_id=46154151', 'OH'],\n",
       "       ['Dec-15', 'Current', '36 months', ..., '', 'https://www.lendingclub.com/browse/loanDetail.action?loan_id=66055249', 'IL']], dtype='<U69')"
      ]
     },
     "execution_count": 9,
     "metadata": {},
     "output_type": "execute_result"
    }
   ],
   "source": [
    "#Importando novamente o dataset, mas separando colunas numéricas e strings\n",
    "array_string = np.genfromtxt('dataset1.csv',delimiter = ';',skip_header = 1,autostrip = True,\\\n",
    "                             usecols = colunas_string,dtype = str,encoding = 'cp1252' )\n",
    "array_string"
   ]
  },
  {
   "cell_type": "code",
   "execution_count": 10,
   "id": "0b65c6fa",
   "metadata": {},
   "outputs": [
    {
     "data": {
      "text/plain": [
       "array([[48010226.  ,    35000.  ,    35000.  ,       13.33,     1184.86,     9452.96],\n",
       "       [57693261.  ,    30000.  ,    30000.  , 68616520.  ,      938.57,     4679.7 ],\n",
       "       [59432726.  ,    15000.  ,    15000.  , 68616520.  ,      494.86,     1969.83],\n",
       "       ...,\n",
       "       [50415990.  ,    10000.  ,    10000.  , 68616520.  , 68616520.  ,     2185.64],\n",
       "       [46154151.  , 68616520.  ,    10000.  ,       16.55,      354.3 ,     3199.4 ],\n",
       "       [66055249.  ,    10000.  ,    10000.  , 68616520.  ,      309.97,      301.9 ]])"
      ]
     },
     "execution_count": 10,
     "metadata": {},
     "output_type": "execute_result"
    }
   ],
   "source": [
    "#Carregando as colunas do tipo numérico preenchendo os valores ausentes\n",
    "array_num = np.genfromtxt('dataset1.csv',delimiter = ';',skip_header = 1,autostrip = True,\\\n",
    "                         usecols = colunas_num,filling_values = valor_coringa,encoding = 'cp1252')\n",
    "array_num"
   ]
  },
  {
   "cell_type": "code",
   "execution_count": 11,
   "id": "ab5ec90d",
   "metadata": {},
   "outputs": [
    {
     "data": {
      "text/plain": [
       "array(['id', 'issue_d', 'loan_amnt', 'loan_status', 'funded_amnt', 'term', 'int_rate', 'installment', 'grade', 'sub_grade', 'verification_status', 'url', 'addr_state', 'total_pymnt'], dtype='<U19')"
      ]
     },
     "execution_count": 11,
     "metadata": {},
     "output_type": "execute_result"
    }
   ],
   "source": [
    "#Carregando os nomes das colunas\n",
    "array_nomes_colunas = np.genfromtxt('dataset1.csv',delimiter = ';',skip_footer = dados.shape[0],dtype = str,encoding = 'cp1252',\\\n",
    "                                   autostrip = True)\n",
    "array_nomes_colunas"
   ]
  },
  {
   "cell_type": "code",
   "execution_count": 12,
   "id": "863642fe",
   "metadata": {},
   "outputs": [],
   "source": [
    "#Nomes das colunas numéricas e strings\n",
    "header_num, header_str = array_nomes_colunas[colunas_num],array_nomes_colunas[colunas_string]"
   ]
  },
  {
   "cell_type": "code",
   "execution_count": 13,
   "id": "fd3704d3",
   "metadata": {},
   "outputs": [
    {
     "data": {
      "text/plain": [
       "array(['id', 'loan_amnt', 'funded_amnt', 'int_rate', 'installment', 'total_pymnt'], dtype='<U19')"
      ]
     },
     "execution_count": 13,
     "metadata": {},
     "output_type": "execute_result"
    }
   ],
   "source": [
    "header_num"
   ]
  },
  {
   "cell_type": "code",
   "execution_count": 14,
   "id": "9dc13e76",
   "metadata": {},
   "outputs": [
    {
     "data": {
      "text/plain": [
       "array(['issue_d', 'loan_status', 'term', 'grade', 'sub_grade', 'verification_status', 'url', 'addr_state'], dtype='<U19')"
      ]
     },
     "execution_count": 14,
     "metadata": {},
     "output_type": "execute_result"
    }
   ],
   "source": [
    "header_str"
   ]
  },
  {
   "cell_type": "code",
   "execution_count": 15,
   "id": "b1b10917",
   "metadata": {},
   "outputs": [],
   "source": [
    "#Criação de função de checkpoint para salvar os resultados intermediários\n",
    "def checkpoint(file_name,header,checkpoint_data):\n",
    "    np.savez(file_name,header = header,data = checkpoint_data)\n",
    "    checkpoint_variable = np.load(file_name + \".npz\")\n",
    "    return (checkpoint_variable)"
   ]
  },
  {
   "cell_type": "code",
   "execution_count": 16,
   "id": "e77f9129",
   "metadata": {},
   "outputs": [],
   "source": [
    "checkpoint_inicial = checkpoint(\"checkpoint-inicial\",header_str,array_string)"
   ]
  },
  {
   "cell_type": "code",
   "execution_count": 17,
   "id": "6a4538f4",
   "metadata": {},
   "outputs": [
    {
     "data": {
      "text/plain": [
       "array([['May-15', 'Current', '36 months', ..., 'Verified', 'https://www.lendingclub.com/browse/loanDetail.action?loan_id=48010226', 'CA'],\n",
       "       ['', 'Current', '36 months', ..., 'Source Verified', 'https://www.lendingclub.com/browse/loanDetail.action?loan_id=57693261', 'NY'],\n",
       "       ['Sep-15', 'Current', '36 months', ..., 'Verified', 'https://www.lendingclub.com/browse/loanDetail.action?loan_id=59432726', 'PA'],\n",
       "       ...,\n",
       "       ['Jun-15', 'Current', '36 months', ..., 'Source Verified', 'https://www.lendingclub.com/browse/loanDetail.action?loan_id=50415990', 'CA'],\n",
       "       ['Apr-15', 'Current', '36 months', ..., 'Source Verified', 'https://www.lendingclub.com/browse/loanDetail.action?loan_id=46154151', 'OH'],\n",
       "       ['Dec-15', 'Current', '36 months', ..., '', 'https://www.lendingclub.com/browse/loanDetail.action?loan_id=66055249', 'IL']], dtype='<U69')"
      ]
     },
     "execution_count": 17,
     "metadata": {},
     "output_type": "execute_result"
    }
   ],
   "source": [
    "checkpoint_inicial['data']"
   ]
  },
  {
   "cell_type": "code",
   "execution_count": 18,
   "id": "8f3e3b58",
   "metadata": {},
   "outputs": [
    {
     "data": {
      "text/plain": [
       "True"
      ]
     },
     "execution_count": 18,
     "metadata": {},
     "output_type": "execute_result"
    }
   ],
   "source": [
    "#Verificando se o array do checkpoint está igual ao array inicial\n",
    "np.array_equal(checkpoint_inicial['data'],array_string)"
   ]
  },
  {
   "cell_type": "markdown",
   "id": "7e668487",
   "metadata": {},
   "source": [
    "## Tratamento das colunas str"
   ]
  },
  {
   "cell_type": "code",
   "execution_count": 19,
   "id": "f0b021b5",
   "metadata": {},
   "outputs": [],
   "source": [
    "header_str[0] = 'issue_date'"
   ]
  },
  {
   "cell_type": "code",
   "execution_count": 20,
   "id": "36095ba7",
   "metadata": {},
   "outputs": [
    {
     "data": {
      "text/plain": [
       "array(['issue_date', 'loan_status', 'term', 'grade', 'sub_grade', 'verification_status', 'url', 'addr_state'], dtype='<U19')"
      ]
     },
     "execution_count": 20,
     "metadata": {},
     "output_type": "execute_result"
    }
   ],
   "source": [
    "header_str"
   ]
  },
  {
   "cell_type": "code",
   "execution_count": 21,
   "id": "6f09f9e5",
   "metadata": {},
   "outputs": [
    {
     "data": {
      "text/plain": [
       "array([['May-15', 'Current', '36 months', ..., 'Verified', 'https://www.lendingclub.com/browse/loanDetail.action?loan_id=48010226', 'CA'],\n",
       "       ['', 'Current', '36 months', ..., 'Source Verified', 'https://www.lendingclub.com/browse/loanDetail.action?loan_id=57693261', 'NY'],\n",
       "       ['Sep-15', 'Current', '36 months', ..., 'Verified', 'https://www.lendingclub.com/browse/loanDetail.action?loan_id=59432726', 'PA'],\n",
       "       ...,\n",
       "       ['Jun-15', 'Current', '36 months', ..., 'Source Verified', 'https://www.lendingclub.com/browse/loanDetail.action?loan_id=50415990', 'CA'],\n",
       "       ['Apr-15', 'Current', '36 months', ..., 'Source Verified', 'https://www.lendingclub.com/browse/loanDetail.action?loan_id=46154151', 'OH'],\n",
       "       ['Dec-15', 'Current', '36 months', ..., '', 'https://www.lendingclub.com/browse/loanDetail.action?loan_id=66055249', 'IL']], dtype='<U69')"
      ]
     },
     "execution_count": 21,
     "metadata": {},
     "output_type": "execute_result"
    }
   ],
   "source": [
    "array_string"
   ]
  },
  {
   "cell_type": "markdown",
   "id": "d17073de",
   "metadata": {},
   "source": [
    "### Variávei issue_date"
   ]
  },
  {
   "cell_type": "code",
   "execution_count": 22,
   "id": "9b4a966f",
   "metadata": {},
   "outputs": [
    {
     "data": {
      "text/plain": [
       "array(['', 'Apr-15', 'Aug-15', 'Dec-15', 'Feb-15', 'Jan-15', 'Jul-15', 'Jun-15', 'Mar-15', 'May-15', 'Nov-15', 'Oct-15', 'Sep-15'], dtype='<U69')"
      ]
     },
     "execution_count": 22,
     "metadata": {},
     "output_type": "execute_result"
    }
   ],
   "source": [
    "np.unique(array_string[:,0])"
   ]
  },
  {
   "cell_type": "code",
   "execution_count": 23,
   "id": "b9a6f9f4",
   "metadata": {},
   "outputs": [],
   "source": [
    "#Remover o sufixo -15 \n",
    "array_string[:,0] = np.chararray.strip(array_string[:,0],\"-15\")"
   ]
  },
  {
   "cell_type": "code",
   "execution_count": 24,
   "id": "b7b0e7ad",
   "metadata": {},
   "outputs": [
    {
     "data": {
      "text/plain": [
       "array(['', 'Apr', 'Aug', 'Dec', 'Feb', 'Jan', 'Jul', 'Jun', 'Mar', 'May', 'Nov', 'Oct', 'Sep'], dtype='<U69')"
      ]
     },
     "execution_count": 24,
     "metadata": {},
     "output_type": "execute_result"
    }
   ],
   "source": [
    "np.unique(array_string[:,0])"
   ]
  },
  {
   "cell_type": "code",
   "execution_count": 25,
   "id": "eed1ecdb",
   "metadata": {},
   "outputs": [],
   "source": [
    "meses = np.array(['','Jan','Feb','Mar','Apr','May','Jun','Jul','Aug','Sep','Oct','Nov','Dec'])"
   ]
  },
  {
   "cell_type": "code",
   "execution_count": 26,
   "id": "8967bec5",
   "metadata": {},
   "outputs": [],
   "source": [
    "for i in range(0,13):\n",
    "    array_string[:,0] = np.where(array_string[:,0]==meses[i],i,array_string[:,0])\n",
    "    "
   ]
  },
  {
   "cell_type": "code",
   "execution_count": 27,
   "id": "4bd42f19",
   "metadata": {},
   "outputs": [
    {
     "data": {
      "text/plain": [
       "array(['0', '1', '10', '11', '12', '2', '3', '4', '5', '6', '7', '8', '9'], dtype='<U69')"
      ]
     },
     "execution_count": 27,
     "metadata": {},
     "output_type": "execute_result"
    }
   ],
   "source": [
    "np.unique(array_string[:,0])"
   ]
  },
  {
   "cell_type": "markdown",
   "id": "0ee0c794",
   "metadata": {},
   "source": [
    "### Variável loan_status"
   ]
  },
  {
   "cell_type": "code",
   "execution_count": 28,
   "id": "5b15397e",
   "metadata": {},
   "outputs": [
    {
     "data": {
      "text/plain": [
       "9"
      ]
     },
     "execution_count": 28,
     "metadata": {},
     "output_type": "execute_result"
    }
   ],
   "source": [
    "np.unique(array_string[:,1]).size"
   ]
  },
  {
   "cell_type": "code",
   "execution_count": 29,
   "id": "127647c7",
   "metadata": {},
   "outputs": [
    {
     "data": {
      "text/plain": [
       "array(['', 'Charged Off', 'Current', 'Default', 'Fully Paid', 'In Grace Period', 'Issued', 'Late (16-30 days)', 'Late (31-120 days)'], dtype='<U69')"
      ]
     },
     "execution_count": 29,
     "metadata": {},
     "output_type": "execute_result"
    }
   ],
   "source": [
    "np.unique(array_string[:,1])"
   ]
  },
  {
   "cell_type": "code",
   "execution_count": 30,
   "id": "0240af52",
   "metadata": {},
   "outputs": [],
   "source": [
    "#Criando um array com apenas 3 status\n",
    "status_bad = np.array(['','Issued','Late (31-120 days)','Default'])"
   ]
  },
  {
   "cell_type": "code",
   "execution_count": 31,
   "id": "962358af",
   "metadata": {},
   "outputs": [],
   "source": [
    "#se os status em loan_status estiverem dentro do np.array status_bad, recebem \"1\". Caso não, recebem \"0\"\n",
    "array_string[:,1] = np.where(np.isin(array_string[:,1],status_bad),1,0)"
   ]
  },
  {
   "cell_type": "code",
   "execution_count": 32,
   "id": "27bd9d1d",
   "metadata": {},
   "outputs": [
    {
     "data": {
      "text/plain": [
       "array(['0', '1'], dtype='<U69')"
      ]
     },
     "execution_count": 32,
     "metadata": {},
     "output_type": "execute_result"
    }
   ],
   "source": [
    "np.unique(array_string[:,1])"
   ]
  },
  {
   "cell_type": "markdown",
   "id": "85e2122b",
   "metadata": {},
   "source": [
    "### Variável term"
   ]
  },
  {
   "cell_type": "code",
   "execution_count": 33,
   "id": "282d3839",
   "metadata": {},
   "outputs": [
    {
     "data": {
      "text/plain": [
       "array(['', '36 months', '60 months'], dtype='<U69')"
      ]
     },
     "execution_count": 33,
     "metadata": {},
     "output_type": "execute_result"
    }
   ],
   "source": [
    "np.unique(array_string[:,2])"
   ]
  },
  {
   "cell_type": "code",
   "execution_count": 34,
   "id": "a5bc99c9",
   "metadata": {},
   "outputs": [
    {
     "data": {
      "text/plain": [
       "array(['36', '36', '36', ..., '36', '36', '36'], dtype='<U69')"
      ]
     },
     "execution_count": 34,
     "metadata": {},
     "output_type": "execute_result"
    }
   ],
   "source": [
    "#Tirando o months \n",
    "header_str[2] = 'term_month'\n",
    "array_string[:,2] = np.chararray.strip(array_string[:,2],\" months\")\n",
    "array_string[:,2]"
   ]
  },
  {
   "cell_type": "code",
   "execution_count": 35,
   "id": "b58828f6",
   "metadata": {},
   "outputs": [],
   "source": [
    "#Substituindo os valores ausentes pelo maior valor (60 months)\n",
    "array_string[:,2] = np.where(array_string[:,2] == \"\",60,array_string[:,2])"
   ]
  },
  {
   "cell_type": "code",
   "execution_count": 36,
   "id": "a7a9c975",
   "metadata": {},
   "outputs": [
    {
     "data": {
      "text/plain": [
       "array(['36', '60'], dtype='<U69')"
      ]
     },
     "execution_count": 36,
     "metadata": {},
     "output_type": "execute_result"
    }
   ],
   "source": [
    "np.unique(array_string[:,2])"
   ]
  },
  {
   "cell_type": "markdown",
   "id": "8ac0d5b1",
   "metadata": {},
   "source": [
    "### Variáveis grade e sub_grade"
   ]
  },
  {
   "cell_type": "code",
   "execution_count": 37,
   "id": "1501b5da",
   "metadata": {},
   "outputs": [
    {
     "data": {
      "text/plain": [
       "array(['', 'A', 'B', 'C', 'D', 'E', 'F', 'G'], dtype='<U69')"
      ]
     },
     "execution_count": 37,
     "metadata": {},
     "output_type": "execute_result"
    }
   ],
   "source": [
    "np.unique(array_string[:,3])"
   ]
  },
  {
   "cell_type": "code",
   "execution_count": 38,
   "id": "1ff48cd9",
   "metadata": {},
   "outputs": [
    {
     "data": {
      "text/plain": [
       "array(['', 'A1', 'A2', 'A3', 'A4', 'A5', 'B1', 'B2', 'B3', 'B4', 'B5', 'C1', 'C2', 'C3', 'C4', 'C5', 'D1', 'D2', 'D3', 'D4', 'D5', 'E1', 'E2', 'E3', 'E4', 'E5', 'F1', 'F2', 'F3', 'F4', 'F5', 'G1',\n",
       "       'G2', 'G3', 'G4', 'G5'], dtype='<U69')"
      ]
     },
     "execution_count": 38,
     "metadata": {},
     "output_type": "execute_result"
    }
   ],
   "source": [
    "np.unique(array_string[:,4])"
   ]
  },
  {
   "cell_type": "code",
   "execution_count": 39,
   "id": "4286af21",
   "metadata": {},
   "outputs": [
    {
     "data": {
      "text/plain": [
       "array(['A', 'B', 'C', 'D', 'E', 'F', 'G'], dtype='<U69')"
      ]
     },
     "execution_count": 39,
     "metadata": {},
     "output_type": "execute_result"
    }
   ],
   "source": [
    "np.unique(array_string[:,3])[1:]"
   ]
  },
  {
   "cell_type": "code",
   "execution_count": 40,
   "id": "09b02f51",
   "metadata": {},
   "outputs": [],
   "source": [
    "#Loop para ajuste da variável sub_grade\n",
    "for i in np.unique(array_string[:,3])[1:]:\n",
    "    array_string[:,4] = np.where((array_string[:,4] == \"\") & (array_string[:,3]==i),i+'5',array_string[:,4])"
   ]
  },
  {
   "cell_type": "code",
   "execution_count": 41,
   "id": "ba6c1231",
   "metadata": {},
   "outputs": [
    {
     "data": {
      "text/plain": [
       "(array(['', 'A1', 'A2', 'A3', 'A4', 'A5', 'B1', 'B2', 'B3', 'B4', 'B5', 'C1', 'C2', 'C3', 'C4', 'C5', 'D1', 'D2', 'D3', 'D4', 'D5', 'E1', 'E2', 'E3', 'E4', 'E5', 'F1', 'F2', 'F3', 'F4', 'F5', 'G1',\n",
       "        'G2', 'G3', 'G4', 'G5'], dtype='<U69'),\n",
       " array([  9, 285, 278, 239, 323, 592, 509, 517, 530, 553, 633, 629, 567, 586, 564, 577, 391, 267, 250, 255, 288, 235, 162, 171, 139, 160,  94,  52,  34,  43,  24,  19,  10,   3,   7,   5], dtype=int64))"
      ]
     },
     "execution_count": 41,
     "metadata": {},
     "output_type": "execute_result"
    }
   ],
   "source": [
    "np.unique(array_string[:,4],return_counts = True)"
   ]
  },
  {
   "cell_type": "code",
   "execution_count": 42,
   "id": "a2fe1433",
   "metadata": {},
   "outputs": [],
   "source": [
    "#Substituindo os valores por uma nova categoria\n",
    "array_string[:,4] = np.where(array_string[:,4]=='','H1',array_string[:,4])"
   ]
  },
  {
   "cell_type": "code",
   "execution_count": 43,
   "id": "a982c459",
   "metadata": {},
   "outputs": [
    {
     "data": {
      "text/plain": [
       "array(['A1', 'A2', 'A3', 'A4', 'A5', 'B1', 'B2', 'B3', 'B4', 'B5', 'C1', 'C2', 'C3', 'C4', 'C5', 'D1', 'D2', 'D3', 'D4', 'D5', 'E1', 'E2', 'E3', 'E4', 'E5', 'F1', 'F2', 'F3', 'F4', 'F5', 'G1', 'G2',\n",
       "       'G3', 'G4', 'G5', 'H1'], dtype='<U69')"
      ]
     },
     "execution_count": 43,
     "metadata": {},
     "output_type": "execute_result"
    }
   ],
   "source": [
    "np.unique(array_string[:,4])"
   ]
  },
  {
   "cell_type": "code",
   "execution_count": 44,
   "id": "1a4df275",
   "metadata": {},
   "outputs": [],
   "source": [
    "#Removendo a variável grade\n",
    "array_string = np.delete(array_string,3,axis = 1)"
   ]
  },
  {
   "cell_type": "code",
   "execution_count": 45,
   "id": "a2ca77ab",
   "metadata": {},
   "outputs": [
    {
     "data": {
      "text/plain": [
       "array(['C3', 'A5', 'B5', ..., 'A5', 'D2', 'A4'], dtype='<U69')"
      ]
     },
     "execution_count": 45,
     "metadata": {},
     "output_type": "execute_result"
    }
   ],
   "source": [
    "#Nova variável de índice 3\n",
    "array_string[:,3]"
   ]
  },
  {
   "cell_type": "code",
   "execution_count": 46,
   "id": "a1c13429",
   "metadata": {},
   "outputs": [],
   "source": [
    "#Removendo a coluna do array de colunas\n",
    "header_str = np.delete(header_str,3)"
   ]
  },
  {
   "cell_type": "code",
   "execution_count": 47,
   "id": "c05edd04",
   "metadata": {},
   "outputs": [
    {
     "data": {
      "text/plain": [
       "array(['A1', 'A2', 'A3', 'A4', 'A5', 'B1', 'B2', 'B3', 'B4', 'B5', 'C1', 'C2', 'C3', 'C4', 'C5', 'D1', 'D2', 'D3', 'D4', 'D5', 'E1', 'E2', 'E3', 'E4', 'E5', 'F1', 'F2', 'F3', 'F4', 'F5', 'G1', 'G2',\n",
       "       'G3', 'G4', 'G5', 'H1'], dtype='<U69')"
      ]
     },
     "execution_count": 47,
     "metadata": {},
     "output_type": "execute_result"
    }
   ],
   "source": [
    "np.unique(array_string[:,3])"
   ]
  },
  {
   "cell_type": "code",
   "execution_count": 48,
   "id": "830f0607",
   "metadata": {},
   "outputs": [
    {
     "data": {
      "text/plain": [
       "'A1'"
      ]
     },
     "execution_count": 48,
     "metadata": {},
     "output_type": "execute_result"
    }
   ],
   "source": [
    "#Lista de chaves\n",
    "keys = list(np.unique(array_string[:,3]))\n",
    "keys[0]"
   ]
  },
  {
   "cell_type": "code",
   "execution_count": 49,
   "id": "2fb4b02f",
   "metadata": {},
   "outputs": [
    {
     "data": {
      "text/plain": [
       "1"
      ]
     },
     "execution_count": 49,
     "metadata": {},
     "output_type": "execute_result"
    }
   ],
   "source": [
    "#Lista de valores\n",
    "values = list(range(1,np.unique(array_string[:,3]).shape[0] + 1))\n",
    "values[0]"
   ]
  },
  {
   "cell_type": "code",
   "execution_count": 50,
   "id": "63178c82",
   "metadata": {},
   "outputs": [],
   "source": [
    "dict_subgrade = dict(zip(keys,values))"
   ]
  },
  {
   "cell_type": "code",
   "execution_count": 51,
   "id": "047e2d64",
   "metadata": {},
   "outputs": [
    {
     "data": {
      "text/plain": [
       "{'A1': 1,\n",
       " 'A2': 2,\n",
       " 'A3': 3,\n",
       " 'A4': 4,\n",
       " 'A5': 5,\n",
       " 'B1': 6,\n",
       " 'B2': 7,\n",
       " 'B3': 8,\n",
       " 'B4': 9,\n",
       " 'B5': 10,\n",
       " 'C1': 11,\n",
       " 'C2': 12,\n",
       " 'C3': 13,\n",
       " 'C4': 14,\n",
       " 'C5': 15,\n",
       " 'D1': 16,\n",
       " 'D2': 17,\n",
       " 'D3': 18,\n",
       " 'D4': 19,\n",
       " 'D5': 20,\n",
       " 'E1': 21,\n",
       " 'E2': 22,\n",
       " 'E3': 23,\n",
       " 'E4': 24,\n",
       " 'E5': 25,\n",
       " 'F1': 26,\n",
       " 'F2': 27,\n",
       " 'F3': 28,\n",
       " 'F4': 29,\n",
       " 'F5': 30,\n",
       " 'G1': 31,\n",
       " 'G2': 32,\n",
       " 'G3': 33,\n",
       " 'G4': 34,\n",
       " 'G5': 35,\n",
       " 'H1': 36}"
      ]
     },
     "execution_count": 51,
     "metadata": {},
     "output_type": "execute_result"
    }
   ],
   "source": [
    "dict_subgrade"
   ]
  },
  {
   "cell_type": "code",
   "execution_count": 52,
   "id": "c5796938",
   "metadata": {},
   "outputs": [],
   "source": [
    "for i in np.unique(array_string[:,3]):\n",
    "    array_string[:,3] = np.where(array_string[:,3]==i,dict_subgrade[i],array_string[:,3])"
   ]
  },
  {
   "cell_type": "code",
   "execution_count": 53,
   "id": "1f28e46a",
   "metadata": {},
   "outputs": [
    {
     "data": {
      "text/plain": [
       "array(['1', '10', '11', '12', '13', '14', '15', '16', '17', '18', '19', '2', '20', '21', '22', '23', '24', '25', '26', '27', '28', '29', '3', '30', '31', '32', '33', '34', '35', '36', '4', '5', '6',\n",
       "       '7', '8', '9'], dtype='<U69')"
      ]
     },
     "execution_count": 53,
     "metadata": {},
     "output_type": "execute_result"
    }
   ],
   "source": [
    "np.unique(array_string[:,3])"
   ]
  },
  {
   "cell_type": "code",
   "execution_count": 54,
   "id": "60e35327",
   "metadata": {},
   "outputs": [
    {
     "data": {
      "text/plain": [
       "array(['issue_date', 'loan_status', 'term_month', 'sub_grade', 'verification_status', 'url', 'addr_state'], dtype='<U19')"
      ]
     },
     "execution_count": 54,
     "metadata": {},
     "output_type": "execute_result"
    }
   ],
   "source": [
    "header_str"
   ]
  },
  {
   "cell_type": "markdown",
   "id": "0f3538bd",
   "metadata": {},
   "source": [
    "### Variável verification_status"
   ]
  },
  {
   "cell_type": "code",
   "execution_count": 55,
   "id": "34284f32",
   "metadata": {},
   "outputs": [
    {
     "data": {
      "text/plain": [
       "array(['', 'Not Verified', 'Source Verified', 'Verified'], dtype='<U69')"
      ]
     },
     "execution_count": 55,
     "metadata": {},
     "output_type": "execute_result"
    }
   ],
   "source": [
    "np.unique(array_string[:,4])"
   ]
  },
  {
   "cell_type": "code",
   "execution_count": 56,
   "id": "919a12a4",
   "metadata": {},
   "outputs": [],
   "source": [
    "array_string[:,4] = np.where((array_string[:,4] == '') | (array_string[:,4] == 'Not Verified'),0,1)"
   ]
  },
  {
   "cell_type": "code",
   "execution_count": 57,
   "id": "c6423a92",
   "metadata": {},
   "outputs": [
    {
     "data": {
      "text/plain": [
       "array(['0', '1'], dtype='<U69')"
      ]
     },
     "execution_count": 57,
     "metadata": {},
     "output_type": "execute_result"
    }
   ],
   "source": [
    "np.unique(array_string[:,4])"
   ]
  },
  {
   "cell_type": "markdown",
   "id": "33b08f77",
   "metadata": {},
   "source": [
    "### Variável url"
   ]
  },
  {
   "cell_type": "code",
   "execution_count": 58,
   "id": "c4bbd30a",
   "metadata": {},
   "outputs": [
    {
     "data": {
      "text/plain": [
       "array(['https://www.lendingclub.com/browse/loanDetail.action?loan_id=48010226', 'https://www.lendingclub.com/browse/loanDetail.action?loan_id=57693261',\n",
       "       'https://www.lendingclub.com/browse/loanDetail.action?loan_id=59432726', ..., 'https://www.lendingclub.com/browse/loanDetail.action?loan_id=50415990',\n",
       "       'https://www.lendingclub.com/browse/loanDetail.action?loan_id=46154151', 'https://www.lendingclub.com/browse/loanDetail.action?loan_id=66055249'], dtype='<U69')"
      ]
     },
     "execution_count": 58,
     "metadata": {},
     "output_type": "execute_result"
    }
   ],
   "source": [
    "array_string[:,5]"
   ]
  },
  {
   "cell_type": "code",
   "execution_count": 59,
   "id": "46a27669",
   "metadata": {},
   "outputs": [],
   "source": [
    "#Extraindo o id ao fim de cada url\n",
    "array_string[:,5] = np.chararray.strip(array_string[:,5],\"https://www.lendingclub.com/browse/loanDetail.action?loan_id=\")"
   ]
  },
  {
   "cell_type": "code",
   "execution_count": 60,
   "id": "7676bc58",
   "metadata": {},
   "outputs": [
    {
     "data": {
      "text/plain": [
       "array([48010226, 57693261, 59432726, ..., 50415990, 46154151, 66055249])"
      ]
     },
     "execution_count": 60,
     "metadata": {},
     "output_type": "execute_result"
    }
   ],
   "source": [
    "#Transformando em inteiros\n",
    "array_string[:,5].astype(dtype = np.int32)"
   ]
  },
  {
   "cell_type": "code",
   "execution_count": 61,
   "id": "440c95d7",
   "metadata": {},
   "outputs": [],
   "source": [
    "#Esse id já está no array_num, portanto vamos remover essa coluna\n",
    "array_string = np.delete(array_string,5,axis = 1)"
   ]
  },
  {
   "cell_type": "code",
   "execution_count": 62,
   "id": "d027927d",
   "metadata": {},
   "outputs": [],
   "source": [
    "header_str = np.delete(header_str,5)"
   ]
  },
  {
   "cell_type": "markdown",
   "id": "bb25cf7d",
   "metadata": {},
   "source": [
    "### Variável addr_state"
   ]
  },
  {
   "cell_type": "code",
   "execution_count": 63,
   "id": "3bfc92b8",
   "metadata": {},
   "outputs": [],
   "source": [
    "#Removendo a variável\n",
    "array_string = np.delete(array_string,5,axis = 1)"
   ]
  },
  {
   "cell_type": "code",
   "execution_count": 64,
   "id": "20a74027",
   "metadata": {},
   "outputs": [],
   "source": [
    "header_str = np.delete(header_str,5)"
   ]
  },
  {
   "cell_type": "code",
   "execution_count": 65,
   "id": "7b59d579",
   "metadata": {},
   "outputs": [
    {
     "data": {
      "text/plain": [
       "(10000, 5)"
      ]
     },
     "execution_count": 65,
     "metadata": {},
     "output_type": "execute_result"
    }
   ],
   "source": [
    "array_string.shape"
   ]
  },
  {
   "cell_type": "code",
   "execution_count": 66,
   "id": "647a3fd3",
   "metadata": {},
   "outputs": [
    {
     "data": {
      "text/plain": [
       "array(['issue_date', 'loan_status', 'term_month', 'sub_grade', 'verification_status'], dtype='<U19')"
      ]
     },
     "execution_count": 66,
     "metadata": {},
     "output_type": "execute_result"
    }
   ],
   "source": [
    "header_str"
   ]
  },
  {
   "cell_type": "code",
   "execution_count": 67,
   "id": "5fbfc7bf",
   "metadata": {},
   "outputs": [],
   "source": [
    "#Convertendo o array de strings para o tipo numérico\n",
    "array_string = array_string.astype(int)"
   ]
  },
  {
   "cell_type": "code",
   "execution_count": 68,
   "id": "8427bb8c",
   "metadata": {},
   "outputs": [
    {
     "data": {
      "text/plain": [
       "dtype('int32')"
      ]
     },
     "execution_count": 68,
     "metadata": {},
     "output_type": "execute_result"
    }
   ],
   "source": [
    "array_string.dtype"
   ]
  },
  {
   "cell_type": "markdown",
   "id": "ab14139d",
   "metadata": {},
   "source": [
    "## Segunda função checkpoint"
   ]
  },
  {
   "cell_type": "code",
   "execution_count": 69,
   "id": "c758ab8c",
   "metadata": {},
   "outputs": [],
   "source": [
    "checkpoint_strings = checkpoint('checkpoint_strings',header_str,array_string)"
   ]
  },
  {
   "cell_type": "markdown",
   "id": "d8d82113",
   "metadata": {},
   "source": [
    "## Tratamento das colunas numéricas"
   ]
  },
  {
   "cell_type": "code",
   "execution_count": 70,
   "id": "198bb51d",
   "metadata": {},
   "outputs": [
    {
     "data": {
      "text/plain": [
       "array([[48010226.  ,    35000.  ,    35000.  ,       13.33,     1184.86,     9452.96],\n",
       "       [57693261.  ,    30000.  ,    30000.  , 68616520.  ,      938.57,     4679.7 ],\n",
       "       [59432726.  ,    15000.  ,    15000.  , 68616520.  ,      494.86,     1969.83],\n",
       "       ...,\n",
       "       [50415990.  ,    10000.  ,    10000.  , 68616520.  , 68616520.  ,     2185.64],\n",
       "       [46154151.  , 68616520.  ,    10000.  ,       16.55,      354.3 ,     3199.4 ],\n",
       "       [66055249.  ,    10000.  ,    10000.  , 68616520.  ,      309.97,      301.9 ]])"
      ]
     },
     "execution_count": 70,
     "metadata": {},
     "output_type": "execute_result"
    }
   ],
   "source": [
    "array_num"
   ]
  },
  {
   "cell_type": "code",
   "execution_count": 71,
   "id": "96ed06c0",
   "metadata": {},
   "outputs": [
    {
     "data": {
      "text/plain": [
       "array(['id', 'loan_amnt', 'funded_amnt', 'int_rate', 'installment', 'total_pymnt'], dtype='<U19')"
      ]
     },
     "execution_count": 71,
     "metadata": {},
     "output_type": "execute_result"
    }
   ],
   "source": [
    "header_num"
   ]
  },
  {
   "cell_type": "code",
   "execution_count": 72,
   "id": "f382b8d9",
   "metadata": {},
   "outputs": [
    {
     "data": {
      "text/plain": [
       "68616520.0"
      ]
     },
     "execution_count": 72,
     "metadata": {},
     "output_type": "execute_result"
    }
   ],
   "source": [
    "#Quando carregamos os dados, substituiu-se ps valores ausentes por um valor coringa\n",
    "valor_coringa"
   ]
  },
  {
   "cell_type": "code",
   "execution_count": 73,
   "id": "a4b77168",
   "metadata": {},
   "outputs": [],
   "source": [
    "#Criando um array com o mínimo, média e máximo ignorando nan\n",
    "array_stats = np.array([np.nanmin(dados,axis = 0),media_ignora_nan,np.nanmax(dados,axis = 0)])"
   ]
  },
  {
   "cell_type": "code",
   "execution_count": 74,
   "id": "50512107",
   "metadata": {},
   "outputs": [
    {
     "data": {
      "text/plain": [
       "array([[  373332.  ,     1000.  ,     1000.  ,        6.  ,       31.42,        0.  ],\n",
       "       [54015809.19,    15273.46,    15311.04,       16.62,      440.92,     3143.85],\n",
       "       [68616519.  ,    35000.  ,    35000.  ,       28.99,     1372.97,    41913.62]])"
      ]
     },
     "execution_count": 74,
     "metadata": {},
     "output_type": "execute_result"
    }
   ],
   "source": [
    "array_stats[:,colunas_num]"
   ]
  },
  {
   "cell_type": "markdown",
   "id": "d310f9ba",
   "metadata": {},
   "source": [
    "### Variável funded_amnt"
   ]
  },
  {
   "cell_type": "code",
   "execution_count": 75,
   "id": "8683c92e",
   "metadata": {},
   "outputs": [
    {
     "data": {
      "text/plain": [
       "array([35000., 30000., 15000., ..., 10000., 10000., 10000.])"
      ]
     },
     "execution_count": 75,
     "metadata": {},
     "output_type": "execute_result"
    }
   ],
   "source": [
    "array_num[:,2]"
   ]
  },
  {
   "cell_type": "code",
   "execution_count": 76,
   "id": "1c2913c9",
   "metadata": {},
   "outputs": [],
   "source": [
    "#Ajustamos o valor coringa para o valor mínimo \n",
    "array_num[:,2] = np.where(array_num[:,2] == valor_coringa,array_stats[:,colunas_num][0,2],array_num[:,2])"
   ]
  },
  {
   "cell_type": "code",
   "execution_count": 77,
   "id": "c9a86eb0",
   "metadata": {},
   "outputs": [
    {
     "data": {
      "text/plain": [
       "array([35000., 30000., 15000., ..., 10000., 10000., 10000.])"
      ]
     },
     "execution_count": 77,
     "metadata": {},
     "output_type": "execute_result"
    }
   ],
   "source": [
    "array_num[:,2]"
   ]
  },
  {
   "cell_type": "markdown",
   "id": "1d5a8e9f",
   "metadata": {},
   "source": [
    "### Variáveis loan_amnt, int_rate, installment, total_pymnt"
   ]
  },
  {
   "cell_type": "code",
   "execution_count": 78,
   "id": "c4b7dd02",
   "metadata": {},
   "outputs": [],
   "source": [
    "#Valor máximo\n",
    "for i in [1,3,4,5]:\n",
    "    array_num[:,i] = np.where(array_num[:,i] == valor_coringa,array_stats[:,colunas_num][2,i],array_num[:,i])"
   ]
  },
  {
   "cell_type": "code",
   "execution_count": 79,
   "id": "e9b80ca7",
   "metadata": {},
   "outputs": [
    {
     "data": {
      "text/plain": [
       "array([[48010226.  ,    35000.  ,    35000.  ,       13.33,     1184.86,     9452.96],\n",
       "       [57693261.  ,    30000.  ,    30000.  ,       28.99,      938.57,     4679.7 ],\n",
       "       [59432726.  ,    15000.  ,    15000.  ,       28.99,      494.86,     1969.83],\n",
       "       ...,\n",
       "       [50415990.  ,    10000.  ,    10000.  ,       28.99,     1372.97,     2185.64],\n",
       "       [46154151.  ,    35000.  ,    10000.  ,       16.55,      354.3 ,     3199.4 ],\n",
       "       [66055249.  ,    10000.  ,    10000.  ,       28.99,      309.97,      301.9 ]])"
      ]
     },
     "execution_count": 79,
     "metadata": {},
     "output_type": "execute_result"
    }
   ],
   "source": [
    "array_num"
   ]
  },
  {
   "cell_type": "markdown",
   "id": "113205e5",
   "metadata": {},
   "source": [
    "## Dataset de cotação USD - EURO"
   ]
  },
  {
   "cell_type": "code",
   "execution_count": 80,
   "id": "e8344652",
   "metadata": {},
   "outputs": [],
   "source": [
    "dados_cot = np.genfromtxt(\"dataset2.csv\", \n",
    "                          delimiter = ',', \n",
    "                          autostrip = True, \n",
    "                          skip_header = 1, \n",
    "                          usecols = 3)"
   ]
  },
  {
   "cell_type": "code",
   "execution_count": 81,
   "id": "7466965d",
   "metadata": {},
   "outputs": [
    {
     "data": {
      "text/plain": [
       "array([1.13, 1.12, 1.08, 1.11, 1.1 , 1.12, 1.09, 1.13, 1.13, 1.1 , 1.06, 1.09])"
      ]
     },
     "execution_count": 81,
     "metadata": {},
     "output_type": "execute_result"
    }
   ],
   "source": [
    "dados_cot"
   ]
  },
  {
   "cell_type": "code",
   "execution_count": 82,
   "id": "5d253716",
   "metadata": {},
   "outputs": [
    {
     "data": {
      "text/plain": [
       "array(['issue_date', 'loan_status', 'term_month', 'sub_grade', 'verification_status'], dtype='<U19')"
      ]
     },
     "execution_count": 82,
     "metadata": {},
     "output_type": "execute_result"
    }
   ],
   "source": [
    "header_str"
   ]
  },
  {
   "cell_type": "code",
   "execution_count": 84,
   "id": "cbc07575",
   "metadata": {},
   "outputs": [
    {
     "data": {
      "text/plain": [
       "array([[ 5,  0, 36, 13,  1],\n",
       "       [ 0,  0, 36,  5,  1],\n",
       "       [ 9,  0, 36, 10,  1],\n",
       "       ...,\n",
       "       [ 6,  0, 36,  5,  1],\n",
       "       [ 4,  0, 36, 17,  1],\n",
       "       [12,  0, 36,  4,  0]])"
      ]
     },
     "execution_count": 84,
     "metadata": {},
     "output_type": "execute_result"
    }
   ],
   "source": [
    "array_string"
   ]
  },
  {
   "cell_type": "code",
   "execution_count": 85,
   "id": "88803b8e",
   "metadata": {},
   "outputs": [],
   "source": [
    "#A coluna 0 do array de strings é o mês\n",
    "exchange = array_string[:,0]"
   ]
  },
  {
   "cell_type": "code",
   "execution_count": 87,
   "id": "4fbc5c3f",
   "metadata": {},
   "outputs": [],
   "source": [
    "for i in range(1,13):\n",
    "    exchange = np.where(exchange == i,dados_cot[i-1],exchange)"
   ]
  },
  {
   "cell_type": "code",
   "execution_count": 89,
   "id": "dfb24bcc",
   "metadata": {},
   "outputs": [],
   "source": [
    "#se tiver nulos, substituimos pela media\n",
    "exchange = np.where(exchange == 0,np.mean(dados_cot),exchange)"
   ]
  },
  {
   "cell_type": "code",
   "execution_count": 90,
   "id": "0bc70c90",
   "metadata": {},
   "outputs": [
    {
     "data": {
      "text/plain": [
       "array([1.1 , 1.11, 1.13, ..., 1.12, 1.11, 1.09])"
      ]
     },
     "execution_count": 90,
     "metadata": {},
     "output_type": "execute_result"
    }
   ],
   "source": [
    "exchange"
   ]
  },
  {
   "cell_type": "code",
   "execution_count": 92,
   "id": "4b5fc175",
   "metadata": {},
   "outputs": [
    {
     "data": {
      "text/plain": [
       "(10000,)"
      ]
     },
     "execution_count": 92,
     "metadata": {},
     "output_type": "execute_result"
    }
   ],
   "source": [
    "#Esse array será adicionado ao array de numeros. Vamos ver se os shapes correspondem\n",
    "exchange.shape"
   ]
  },
  {
   "cell_type": "code",
   "execution_count": 93,
   "id": "c499307d",
   "metadata": {},
   "outputs": [
    {
     "data": {
      "text/plain": [
       "(10000, 6)"
      ]
     },
     "execution_count": 93,
     "metadata": {},
     "output_type": "execute_result"
    }
   ],
   "source": [
    "array_num.shape"
   ]
  },
  {
   "cell_type": "code",
   "execution_count": 95,
   "id": "419786d7",
   "metadata": {},
   "outputs": [],
   "source": [
    "#Mudando o shape do exchange\n",
    "exchange = np.reshape(exchange,(10000,1))"
   ]
  },
  {
   "cell_type": "code",
   "execution_count": 96,
   "id": "ada52f7d",
   "metadata": {},
   "outputs": [],
   "source": [
    "#Juntando os arrays\n",
    "array_num = np.hstack((array_num,exchange))"
   ]
  },
  {
   "cell_type": "code",
   "execution_count": 97,
   "id": "8a27e5b7",
   "metadata": {},
   "outputs": [],
   "source": [
    "#Acrescentando o cabeçalho\n",
    "header_num = np.concatenate((header_num,np.array(['exchange'])))"
   ]
  },
  {
   "cell_type": "code",
   "execution_count": 98,
   "id": "24d5ce31",
   "metadata": {},
   "outputs": [],
   "source": [
    "colunas_dollar = np.array([1,2,4,5])"
   ]
  },
  {
   "cell_type": "code",
   "execution_count": 99,
   "id": "e6d52d34",
   "metadata": {},
   "outputs": [
    {
     "data": {
      "text/plain": [
       "array([1.1 , 1.11, 1.13, ..., 1.12, 1.11, 1.09])"
      ]
     },
     "execution_count": 99,
     "metadata": {},
     "output_type": "execute_result"
    }
   ],
   "source": [
    "array_num[:,6]"
   ]
  },
  {
   "cell_type": "code",
   "execution_count": 101,
   "id": "675dd4a4",
   "metadata": {},
   "outputs": [],
   "source": [
    "for i in colunas_dollar:\n",
    "    array_num = np.hstack((array_num, np.reshape(array_num[:,i] / array_num[:,6],(10000,1))))"
   ]
  },
  {
   "cell_type": "code",
   "execution_count": 102,
   "id": "954a071f",
   "metadata": {},
   "outputs": [],
   "source": [
    "header_add = np.array([nome_coluna + '_EUR' for nome_coluna in header_num[colunas_dollar]])"
   ]
  },
  {
   "cell_type": "code",
   "execution_count": 103,
   "id": "b3c55d0f",
   "metadata": {},
   "outputs": [],
   "source": [
    "header_num = np.concatenate((header_num,header_add))"
   ]
  },
  {
   "cell_type": "code",
   "execution_count": 104,
   "id": "b01ba48f",
   "metadata": {},
   "outputs": [],
   "source": [
    "header_num [colunas_dollar] = np.array([nome_coluna+'_USD' for nome_coluna in header_num[colunas_dollar]])"
   ]
  },
  {
   "cell_type": "code",
   "execution_count": 105,
   "id": "4410bfed",
   "metadata": {},
   "outputs": [],
   "source": [
    "columns_index_order = [0,1,7,2,8,3,4,9,5,10,6]"
   ]
  },
  {
   "cell_type": "code",
   "execution_count": 106,
   "id": "91e8dae5",
   "metadata": {},
   "outputs": [],
   "source": [
    "header_num = header_num[columns_index_order]"
   ]
  },
  {
   "cell_type": "code",
   "execution_count": 107,
   "id": "3b4ec69b",
   "metadata": {},
   "outputs": [],
   "source": [
    "array_num = array_num[:,columns_index_order]"
   ]
  },
  {
   "cell_type": "markdown",
   "id": "677e9c12",
   "metadata": {},
   "source": [
    "### Variável int_rate"
   ]
  },
  {
   "cell_type": "code",
   "execution_count": 109,
   "id": "4927fe24",
   "metadata": {},
   "outputs": [],
   "source": [
    "array_num[:,5] = array_num[:,5]/100"
   ]
  },
  {
   "cell_type": "code",
   "execution_count": 110,
   "id": "f15dfa29",
   "metadata": {},
   "outputs": [
    {
     "data": {
      "text/plain": [
       "array([0.13, 0.29, 0.29, ..., 0.29, 0.17, 0.29])"
      ]
     },
     "execution_count": 110,
     "metadata": {},
     "output_type": "execute_result"
    }
   ],
   "source": [
    "array_num[:,5]"
   ]
  },
  {
   "cell_type": "markdown",
   "id": "a8644ebb",
   "metadata": {},
   "source": [
    "## Construindo o dataset final"
   ]
  },
  {
   "cell_type": "code",
   "execution_count": 112,
   "id": "2bb3eca4",
   "metadata": {},
   "outputs": [],
   "source": [
    "df_final = np.hstack((array_num,array_string))"
   ]
  },
  {
   "cell_type": "code",
   "execution_count": 113,
   "id": "ee1e4688",
   "metadata": {},
   "outputs": [
    {
     "data": {
      "text/plain": [
       "array([[48010226.  ,    35000.  ,    31933.3 , ...,       36.  ,       13.  ,        1.  ],\n",
       "       [57693261.  ,    30000.  ,    27132.46, ...,       36.  ,        5.  ,        1.  ],\n",
       "       [59432726.  ,    15000.  ,    13326.3 , ...,       36.  ,       10.  ,        1.  ],\n",
       "       ...,\n",
       "       [50415990.  ,    10000.  ,     8910.3 , ...,       36.  ,        5.  ,        1.  ],\n",
       "       [46154151.  ,    35000.  ,    31490.9 , ...,       36.  ,       17.  ,        1.  ],\n",
       "       [66055249.  ,    10000.  ,     9145.8 , ...,       36.  ,        4.  ,        0.  ]])"
      ]
     },
     "execution_count": 113,
     "metadata": {},
     "output_type": "execute_result"
    }
   ],
   "source": [
    "df_final"
   ]
  },
  {
   "cell_type": "code",
   "execution_count": 116,
   "id": "6375770f",
   "metadata": {},
   "outputs": [],
   "source": [
    "header_full = np.concatenate((header_num,header_str))"
   ]
  },
  {
   "cell_type": "code",
   "execution_count": 117,
   "id": "e30ed9d2",
   "metadata": {},
   "outputs": [],
   "source": [
    "df_final = np.vstack((header_full,df_final))"
   ]
  },
  {
   "cell_type": "code",
   "execution_count": 118,
   "id": "32b84198",
   "metadata": {},
   "outputs": [],
   "source": [
    "#Salvando o dataset final\n",
    "np.savetxt('dataset_final_processado.csv',df_final,fmt = '%s',delimiter = ',')"
   ]
  }
 ],
 "metadata": {
  "kernelspec": {
   "display_name": "Python 3 (ipykernel)",
   "language": "python",
   "name": "python3"
  },
  "language_info": {
   "codemirror_mode": {
    "name": "ipython",
    "version": 3
   },
   "file_extension": ".py",
   "mimetype": "text/x-python",
   "name": "python",
   "nbconvert_exporter": "python",
   "pygments_lexer": "ipython3",
   "version": "3.9.13"
  }
 },
 "nbformat": 4,
 "nbformat_minor": 5
}
